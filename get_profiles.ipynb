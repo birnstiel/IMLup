{
 "cells": [
  {
   "cell_type": "markdown",
   "metadata": {},
   "source": [
    "## Rescale images"
   ]
  },
  {
   "cell_type": "markdown",
   "metadata": {},
   "source": [
    "We are testing the rescaling of the profiles in a consistent way."
   ]
  },
  {
   "cell_type": "code",
   "execution_count": null,
   "metadata": {},
   "outputs": [],
   "source": [
    "import numpy as np\n",
    "import matplotlib.pyplot as plt\n",
    "from gofish import imagecube\n",
    "import dsharp_helper as dh\n",
    "import helper_functions"
   ]
  },
  {
   "cell_type": "code",
   "execution_count": null,
   "metadata": {},
   "outputs": [],
   "source": [
    "import importlib\n",
    "importlib.reload(helper_functions)"
   ]
  },
  {
   "cell_type": "markdown",
   "metadata": {},
   "source": [
    "Set the parameters used to process the image"
   ]
  },
  {
   "cell_type": "code",
   "execution_count": null,
   "metadata": {},
   "outputs": [],
   "source": [
    "disk = 'IMLup'\n",
    "PA = dh.sources.loc[disk]['PA']\n",
    "inc = dh.sources.loc[disk]['inc']\n",
    "dpc = dh.sources.loc[disk]['distance [pc]']\n",
    "clip = 5\n",
    "z0 = 0.2\n",
    "psi = 1.27\n",
    "lam_sca = 1.65e-4\n",
    "pixelsize = (12.5*u.mas).to('deg').value # pixel size\n",
    "beam_sca = (0.040, 0.040, 0.0) # the \"beam\" assumed in the radial profile calculation"
   ]
  },
  {
   "cell_type": "markdown",
   "metadata": {},
   "source": [
    "Read the image and set beam parameters"
   ]
  },
  {
   "cell_type": "code",
   "execution_count": null,
   "metadata": {},
   "outputs": [],
   "source": [
    "# fname = 'tmp_lghj4yj/image_sca.fits'\n",
    "fname = 'IM_Lup_reducedRob_median_Hband_12.25mas_mod.fits'\n",
    "cube = imagecube(fname)\n",
    "cube.bmaj, cube.bmin, cube.bpa = beam_sca"
   ]
  },
  {
   "cell_type": "markdown",
   "metadata": {},
   "source": [
    "Since we re-use these keywords all the time, we pack them in a dictionary"
   ]
  },
  {
   "cell_type": "code",
   "execution_count": null,
   "metadata": {},
   "outputs": [],
   "source": [
    "disk_surface = dict(inc=inc, PA=PA, z0=z0, psi=psi)"
   ]
  },
  {
   "cell_type": "markdown",
   "metadata": {},
   "source": [
    "Define the a mask for testing"
   ]
  },
  {
   "cell_type": "code",
   "execution_count": null,
   "metadata": {},
   "outputs": [],
   "source": [
    "mask_params = dict(\n",
    "    r_min=0.95,\n",
    "    r_max=1.05,\n",
    "    PA_min=-180,\n",
    "    PA_max=180,\n",
    "    )"
   ]
  },
  {
   "cell_type": "markdown",
   "metadata": {},
   "source": [
    "As a check: plot the mask and the profile and the radial average"
   ]
  },
  {
   "cell_type": "code",
   "execution_count": null,
   "metadata": {},
   "outputs": [],
   "source": [
    "f, ax = plt.subplots(1, 2, figsize=(10, 5))\n",
    "\n",
    "xv, yv, dyv = cube.radial_profile(rbins=np.array([mask_params['r_min'], mask_params['r_max']]), **mask_params, **disk_surface)\n",
    "\n",
    "x, y, dy = helper_functions.azimuthal_profile(cube, **mask_params, **disk_surface)\n",
    "\n",
    "ax[1].semilogy(x, y)\n",
    "ax[1].errorbar(x.mean(), yv, dyv, fmt='x', label='gofish radial average')\n",
    "ax[1].fill_between(x, y - dy, y + dy, alpha=0.4, label='azimuthal profile')\n",
    "\n",
    "ax[0].imshow(cube.data /yv, extent=cube.extent, vmin=0.1, vmax=5, origin='lower')\n",
    "\n",
    "cube.plot_mask(ax=ax[0], **mask_params, **disk_surface, mask_alpha=0.2)\n",
    "\n",
    "ax[0].set_xlim([2, -2])\n",
    "ax[0].set_ylim([-2, 2])\n",
    "ax[1].legend();"
   ]
  },
  {
   "cell_type": "markdown",
   "metadata": {},
   "source": [
    "For the following image, we have to re-normalize the data in the same way as the profile functions do it"
   ]
  },
  {
   "cell_type": "code",
   "execution_count": null,
   "metadata": {},
   "outputs": [],
   "source": [
    "data = cube.data.copy()\n",
    "if cube.bunit.lower() == 'jy/beam':\n",
    "    data *= 1e-23 / cube.beamarea_str\n",
    "elif cube.bunit.lower() == 'jy/pixel':\n",
    "    data *= 1e-23 * cube.pix_per_beam / cube.beamarea_str"
   ]
  },
  {
   "cell_type": "markdown",
   "metadata": {},
   "source": [
    "Now we get the different profiles along the major and minor axes and plot them along with the masks"
   ]
  },
  {
   "cell_type": "code",
   "execution_count": null,
   "metadata": {},
   "outputs": [],
   "source": [
    "options = dict(clip=clip, beam=beam_sca, **disk_surface)\n",
    "\n",
    "profiles = helper_functions.get_normalized_profiles(fname, **options)\n",
    "norm = profiles['T']['norm']\n",
    "\n",
    "f, ax = plt.subplots(1, 2, figsize=(10, 5))\n",
    "ax[0].imshow(data / norm, extent=cube.extent, vmin=0.1, vmax=5, origin='lower')\n",
    "\n",
    "for i, key in enumerate(profiles.keys()):\n",
    "    profile = profiles[key]\n",
    "    x = profile['x']\n",
    "    y = profile['y']\n",
    "    dy = profile['dy']\n",
    "    mask = profile['mask']\n",
    "\n",
    "    cube.plot_mask(ax=ax[0], **disk_surface, **mask, mask_alpha=0, mask_color=f'C{i}')\n",
    "    \n",
    "    ax[1].semilogy(x, y, c=f'C{i}')\n",
    "    ax[1].fill_between(x, y - dy, y + dy, fc=f'C{i}', alpha=0.5)\n",
    "\n",
    "ax[0].set_xlim([2, -2])\n",
    "ax[0].set_ylim([-2, 2]);"
   ]
  }
 ],
 "metadata": {
  "kernelspec": {
   "display_name": "Python 3",
   "language": "python",
   "name": "python3"
  },
  "language_info": {
   "codemirror_mode": {
    "name": "ipython",
    "version": 3
   },
   "file_extension": ".py",
   "mimetype": "text/x-python",
   "name": "python",
   "nbconvert_exporter": "python",
   "pygments_lexer": "ipython3",
   "version": "3.8.5"
  }
 },
 "nbformat": 4,
 "nbformat_minor": 4
}
