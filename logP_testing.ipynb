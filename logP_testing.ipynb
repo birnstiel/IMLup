{
 "cells": [
  {
   "cell_type": "code",
   "execution_count": 1,
   "metadata": {
    "collapsed": true
   },
   "outputs": [
    {
     "name": "stderr",
     "output_type": "stream",
     "text": [
      "/Users/franceschi/mysims/DISKLAB/disklab/diskradial.py:18: UserWarning: numba not available, opacity calculation will be very slow\n",
      "  warnings.warn('numba not available, opacity calculation will be very slow')\n"
     ]
    }
   ],
   "source": [
    "import getpass\n",
    "import tempfile\n",
    "import warnings\n",
    "from pathlib import Path\n",
    "\n",
    "from scipy.stats import chisquare\n",
    "import numpy as np\n",
    "\n",
    "import astropy.constants as c\n",
    "import astropy.units as u\n",
    "\n",
    "from gofish import imagecube\n",
    "from radmc3dPy import image\n",
    "import dsharp_opac as opacity\n",
    "from disklab.radmc3d import write\n",
    "import disklab\n",
    "\n",
    "from helper_functions import get_profile_from_fits\n",
    "from helper_functions import get_normalized_profiles\n",
    "from helper_functions import make_disklab2d_model\n",
    "from helper_functions import write_radmc3d\n",
    "from helper_functions import read_opacs\n",
    "\n",
    "import pickle\n",
    "import matplotlib.pyplot as plt\n",
    "from radmc3dPy import *"
   ]
  },
  {
   "cell_type": "code",
   "execution_count": 2,
   "outputs": [],
   "source": [
    "au = c.au.cgs.value\n",
    "M_sun = c.M_sun.cgs.value\n",
    "L_sun = c.L_sun.cgs.value\n",
    "R_sun = c.R_sun.cgs.value\n",
    "\n",
    "radmc3d_exec = Path('~/bin/radmc3d').expanduser()"
   ],
   "metadata": {
    "collapsed": false,
    "pycharm": {
     "name": "#%%\n"
    }
   }
  },
  {
   "cell_type": "code",
   "execution_count": 3,
   "outputs": [],
   "source": [
    "options = pickle.load(open(\"options.p\", \"rb\"))\n",
    "\n",
    "PA = options['PA']\n",
    "inc = options['inc']\n",
    "dpc = options['distance']\n",
    "clip = options['clip']\n",
    "lam_mm = options['lam_mm']\n",
    "\n",
    "mstar = options['mstar']\n",
    "lstar = options['lstar']\n",
    "tstar = options['tstar']\n",
    "\n",
    "# get the mm observables\n",
    "\n",
    "x_mm_obs = options['x_mm_obs']\n",
    "y_mm_obs = options['y_mm_obs']\n",
    "dy_mm_obs = options['dy_mm_obs']\n",
    "fname_mm_obs = options['fname_mm_obs']\n",
    "\n",
    "# get options used in the scattered light image\n",
    "\n",
    "z0 = options['z0']\n",
    "psi = options['psi']\n",
    "lam_sca = options['lam_sca']\n",
    "beam_sca = options['beam_sca']\n",
    "\n",
    "fname_sca_obs = options['fname_sca_obs']\n",
    "\n",
    "# get the scattered light data\n",
    "\n",
    "profiles_sca_obs = options['profiles_sca_obs']\n",
    "\n",
    "# name of the opacities file\n",
    "\n",
    "fname_opac = options['fname_opac']\n",
    "\n",
    "# get the disklab model parameters\n",
    "\n",
    "nr = options['nr']\n",
    "rin = options['rin']\n",
    "r_c = options['r_c']\n",
    "rout = options['rout']\n",
    "alpha = options['alpha']"
   ],
   "metadata": {
    "collapsed": false,
    "pycharm": {
     "name": "#%%\n"
    }
   }
  },
  {
   "cell_type": "code",
   "execution_count": 4,
   "outputs": [],
   "source": [
    "parameters =[\n",
    "            7.0,\n",
    "            0.730,\n",
    "            0.558,\n",
    "            0.017,\n",
    "            0.625,\n",
    "            0.008,\n",
    "            0.050,\n",
    "            ]"
   ],
   "metadata": {
    "collapsed": false,
    "pycharm": {
     "name": "#%%\n"
    }
   }
  },
  {
   "cell_type": "code",
   "execution_count": 5,
   "outputs": [
    {
     "name": "stderr",
     "output_type": "stream",
     "text": [
      "/Users/franceschi/mysims/IMLup/Til/helper_functions.py:67: UserWarning: Disk mass is unreasonably high: M_disk / Mstar = 0.3\n",
      "  warnings.warn(f'Disk mass is unreasonably high: M_disk / Mstar = {d.mass/mstar:.2g}')\n"
     ]
    }
   ],
   "source": [
    "temp_directory = tempfile.TemporaryDirectory(dir='.')\n",
    "temp_path = temp_directory.name\n",
    "\n",
    "# ### make the disklab 2D model\n",
    "\n",
    "disk2d = make_disklab2d_model(\n",
    "    parameters,\n",
    "    mstar,\n",
    "    lstar,\n",
    "    tstar,\n",
    "    nr,\n",
    "    alpha,\n",
    "    rin,\n",
    "    rout,\n",
    "    r_c,\n",
    "    fname_opac,\n",
    "    show_plots=False\n",
    ")"
   ],
   "metadata": {
    "collapsed": false,
    "pycharm": {
     "name": "#%%\n"
    }
   }
  },
  {
   "cell_type": "code",
   "execution_count": 6,
   "outputs": [
    {
     "name": "stdout",
     "output_type": "stream",
     "text": [
      "disk to star mass ratio = 0.3\n"
     ]
    }
   ],
   "source": [
    "print(f'disk to star mass ratio = {disk2d.disk.mass / disk2d.disk.mstar:.2g}')\n",
    "\n",
    "# read the wavelength grid from the opacity file and write out radmc setup\n",
    "\n",
    "opac_dict = read_opacs(fname_opac)\n",
    "lam_opac = opac_dict['lam']\n",
    "n_a = len(opac_dict['a'])\n",
    "\n",
    "write_radmc3d(disk2d, lam_opac, temp_path, show_plots=False)"
   ],
   "metadata": {
    "collapsed": false,
    "pycharm": {
     "name": "#%%\n"
    }
   }
  },
  {
   "cell_type": "code",
   "execution_count": 7,
   "outputs": [
    {
     "name": "stdout",
     "output_type": "stream",
     "text": [
      ">>>   \n",
      ">>>    ================================================================\n",
      ">>>         WELCOME TO RADMC-3D: A 3-D CONTINUUM AND LINE RT SOLVER\n",
      ">>>   \n",
      ">>>                             VERSION 2.0\n",
      ">>>   \n",
      ">>>                   (c) 2008-2020 Cornelis Dullemond\n",
      ">>>   \n",
      ">>>          Please feel free to ask questions. Also please report\n",
      ">>>           bugs and/or suspicious behavior without hestitation.\n",
      ">>>         The reliability of this code depends on your vigilance!\n",
      ">>>                       dullemond@uni-heidelberg.de\n",
      ">>>   \n",
      ">>>      To keep up-to-date with bug-alarms and bugfixes, register to\n",
      ">>>                        the RADMC-3D forum:\n",
      ">>>               http://radmc3d.ita.uni-heidelberg.de/phpbb/\n",
      ">>>   \n",
      ">>>                 Please visit the RADMC-3D home page at\n",
      ">>>     http://www.ita.uni-heidelberg.de/~dullemond/software/radmc-3d/\n",
      ">>>    ================================================================\n",
      ">>>   \n",
      ">>>    Number of processors:            8\n",
      ">>>    Number of threads in use:            1\n",
      ">>>    Reading global frequencies/wavelengths...\n",
      ">>>    Reading grid file and prepare grid tree...\n",
      ">>>    Reading star data...\n",
      ">>>    Note: Star 1 is taken to be a blackbody star\n",
      ">>>          at a temperature T = 4266. Kelvin\n",
      ">>>    Treating stars as finite-size spheres...\n",
      ">>>    Grid information (current status):\n",
      ">>>      We have 21800 branches, of which 21800 are actual grid cells.\n",
      ">>>      ---> 100.000% mem use for branches, and 100.000% mem use for actual cells.\n",
      ">>>      No grid refinement is active. The AMR tree is not allocated (this saves memory).\n",
      ">>>    Reading the heat source spatial distribution...\n",
      ">>>    Starting procedure for rendering image...\n",
      ">>>      --> Including dust\n",
      ">>>          No lines included...\n",
      ">>>          No gas continuum included...\n",
      ">>>    Reading dust data...\n",
      ">>>    Note: Opacity file dustkappa_112135376400.inp does not cover the\n",
      ">>>          complete wavelength range of the model (i.e. the range\n",
      ">>>          in the file frequency.inp or wavelength_micron.inp).\n",
      ">>>          Range of model:     lambda = [ 0.10E+00, 0.10E+06]\n",
      ">>>          Range in this file: lambda = [ 0.10E+00, 0.10E+06]\n",
      ">>>          Simple extrapolations are used to extend this range.\n",
      ">>>    Note: Opacity file dustkappa_112135375952.inp does not cover the\n",
      ">>>          complete wavelength range of the model (i.e. the range\n",
      ">>>          in the file frequency.inp or wavelength_micron.inp).\n",
      ">>>          Range of model:     lambda = [ 0.10E+00, 0.10E+06]\n",
      ">>>          Range in this file: lambda = [ 0.10E+00, 0.10E+06]\n",
      ">>>          Simple extrapolations are used to extend this range.\n",
      ">>>    Note: Opacity file dustkappa_112135376848.inp does not cover the\n",
      ">>>          complete wavelength range of the model (i.e. the range\n",
      ">>>          in the file frequency.inp or wavelength_micron.inp).\n",
      ">>>          Range of model:     lambda = [ 0.10E+00, 0.10E+06]\n",
      ">>>          Range in this file: lambda = [ 0.10E+00, 0.10E+06]\n",
      ">>>          Simple extrapolations are used to extend this range.\n",
      ">>>    Note: Opacity file dustkappa_112135376528.inp does not cover the\n",
      ">>>          complete wavelength range of the model (i.e. the range\n",
      ">>>          in the file frequency.inp or wavelength_micron.inp).\n",
      ">>>          Range of model:     lambda = [ 0.10E+00, 0.10E+06]\n",
      ">>>          Range in this file: lambda = [ 0.10E+00, 0.10E+06]\n",
      ">>>          Simple extrapolations are used to extend this range.\n",
      ">>>    Note: Opacity file dustkappa_112135471248.inp does not cover the\n",
      ">>>          complete wavelength range of the model (i.e. the range\n",
      ">>>          in the file frequency.inp or wavelength_micron.inp).\n",
      ">>>          Range of model:     lambda = [ 0.10E+00, 0.10E+06]\n",
      ">>>          Range in this file: lambda = [ 0.10E+00, 0.10E+06]\n",
      ">>>          Simple extrapolations are used to extend this range.\n",
      ">>>    Note: Opacity file dustkappa_112135376592.inp does not cover the\n",
      ">>>          complete wavelength range of the model (i.e. the range\n",
      ">>>          in the file frequency.inp or wavelength_micron.inp).\n",
      ">>>          Range of model:     lambda = [ 0.10E+00, 0.10E+06]\n",
      ">>>          Range in this file: lambda = [ 0.10E+00, 0.10E+06]\n",
      ">>>          Simple extrapolations are used to extend this range.\n",
      ">>>    Note: Opacity file dustkappa_112135373072.inp does not cover the\n",
      ">>>          complete wavelength range of the model (i.e. the range\n",
      ">>>          in the file frequency.inp or wavelength_micron.inp).\n",
      ">>>          Range of model:     lambda = [ 0.10E+00, 0.10E+06]\n",
      ">>>          Range in this file: lambda = [ 0.10E+00, 0.10E+06]\n",
      ">>>          Simple extrapolations are used to extend this range.\n",
      ">>>    Note: Opacity file dustkappa_112135373264.inp does not cover the\n",
      ">>>          complete wavelength range of the model (i.e. the range\n",
      ">>>          in the file frequency.inp or wavelength_micron.inp).\n",
      ">>>          Range of model:     lambda = [ 0.10E+00, 0.10E+06]\n",
      ">>>          Range in this file: lambda = [ 0.10E+00, 0.10E+06]\n",
      ">>>          Simple extrapolations are used to extend this range.\n",
      ">>>    Note: Opacity file dustkappa_112135376144.inp does not cover the\n",
      ">>>          complete wavelength range of the model (i.e. the range\n",
      ">>>          in the file frequency.inp or wavelength_micron.inp).\n",
      ">>>          Range of model:     lambda = [ 0.10E+00, 0.10E+06]\n",
      ">>>          Range in this file: lambda = [ 0.10E+00, 0.10E+06]\n",
      ">>>          Simple extrapolations are used to extend this range.\n",
      ">>>    Note: Opacity file dustkappa_112135471376.inp does not cover the\n",
      ">>>          complete wavelength range of the model (i.e. the range\n",
      ">>>          in the file frequency.inp or wavelength_micron.inp).\n",
      ">>>          Range of model:     lambda = [ 0.10E+00, 0.10E+06]\n",
      ">>>          Range in this file: lambda = [ 0.10E+00, 0.10E+06]\n",
      ">>>          Simple extrapolations are used to extend this range.\n",
      ">>>    Note: Opacity file dustkappa_112135375696.inp does not cover the\n",
      ">>>          complete wavelength range of the model (i.e. the range\n",
      ">>>          in the file frequency.inp or wavelength_micron.inp).\n",
      ">>>          Range of model:     lambda = [ 0.10E+00, 0.10E+06]\n",
      ">>>          Range in this file: lambda = [ 0.10E+00, 0.10E+06]\n",
      ">>>          Simple extrapolations are used to extend this range.\n",
      ">>>    Note: Opacity file dustkappa_112135376720.inp does not cover the\n",
      ">>>          complete wavelength range of the model (i.e. the range\n",
      ">>>          in the file frequency.inp or wavelength_micron.inp).\n",
      ">>>          Range of model:     lambda = [ 0.10E+00, 0.10E+06]\n",
      ">>>          Range in this file: lambda = [ 0.10E+00, 0.10E+06]\n",
      ">>>          Simple extrapolations are used to extend this range.\n",
      ">>>    Note: Opacity file dustkappa_112135376272.inp does not cover the\n",
      ">>>          complete wavelength range of the model (i.e. the range\n",
      ">>>          in the file frequency.inp or wavelength_micron.inp).\n",
      ">>>          Range of model:     lambda = [ 0.10E+00, 0.10E+06]\n",
      ">>>          Range in this file: lambda = [ 0.10E+00, 0.10E+06]\n",
      ">>>          Simple extrapolations are used to extend this range.\n",
      ">>>    Note: Opacity file dustkappa_112135375824.inp does not cover the\n",
      ">>>          complete wavelength range of the model (i.e. the range\n",
      ">>>          in the file frequency.inp or wavelength_micron.inp).\n",
      ">>>          Range of model:     lambda = [ 0.10E+00, 0.10E+06]\n",
      ">>>          Range in this file: lambda = [ 0.10E+00, 0.10E+06]\n",
      ">>>          Simple extrapolations are used to extend this range.\n",
      ">>>    Note: Opacity file dustkappa_112135471504.inp does not cover the\n",
      ">>>          complete wavelength range of the model (i.e. the range\n",
      ">>>          in the file frequency.inp or wavelength_micron.inp).\n",
      ">>>          Range of model:     lambda = [ 0.10E+00, 0.10E+06]\n",
      ">>>          Range in this file: lambda = [ 0.10E+00, 0.10E+06]\n",
      ">>>          Simple extrapolations are used to extend this range.\n",
      ">>>    Reading dust densities...\n",
      ">>>    Dust mass in species            1  =    1.4133938953624317E-004  Msun\n",
      ">>>    Dust mass in species            2  =    2.4517473409992768E-004  Msun\n",
      ">>>    Dust mass in species            3  =    4.2520176647158238E-004  Msun\n",
      ">>>    Dust mass in species            4  =    7.3685959784027834E-004  Msun\n",
      ">>>    Dust mass in species            5  =    9.1495435465097313E-004  Msun\n",
      ">>>    Dust mass in species            6  =    2.3180474936223563E-004  Msun\n",
      ">>>    Dust mass in species            7  =    3.1751342140478426E-005  Msun\n",
      ">>>    Dust mass in species            8  =    3.9485138984486342E-006  Msun\n",
      ">>>    Dust mass in species            9  =    4.6622542761093304E-007  Msun\n",
      ">>>    Dust mass in species           10  =    2.7562359799465113E-008  Msun\n",
      ">>>    Dust mass in species           11  =    2.4487447401129255E-085  Msun\n",
      ">>>    Dust mass in species           12  =    2.4487447401129255E-085  Msun\n",
      ">>>    Dust mass in species           13  =    2.4487447401129255E-085  Msun\n",
      ">>>    Dust mass in species           14  =    2.4487447401129255E-085  Msun\n",
      ">>>    Dust mass in species           15  =    2.4487447401129255E-085  Msun\n",
      ">>>    Dust mass total =    2.7315282357875774E-003  Msun\n",
      ">>>    Reading dust temperatures...\n",
      ">>>    Setting up the vertices (cell corners) for second order transfer...\n",
      ">>>    Rendering image(s)...\n",
      ">>>    Doing scattering Monte Carlo simulation for lambda =    1250.0000000000000       micron...\n",
      ">>>    Beware: The OpenMP-parallel acceleration of RADMC-3D has\n",
      ">>>            not yet been tested with all of the modes and\n",
      ">>>            features that RADMC-3D offers. Please check\n",
      ">>>            your parallel results against the serial version\n",
      ">>>            (i.e. compiling without -fopenmp).\n",
      ">>>    Using dust scattering mode            1\n",
      ">>>    Wavelength nr            1  corresponding to lambda=   1250.0000000000000       micron\n",
      ">>>    Thread Nr           0 of           1 threads in total\n",
      ">>>    Thread:           0 Photon nr:                 1000\n",
      ">>>    Thread:           0 Photon nr:                 2000\n",
      ">>>    Thread:           0 Photon nr:                 3000\n",
      ">>>    Thread:           0 Photon nr:                 4000\n",
      ">>>    Thread:           0 Photon nr:                 5000\n",
      ">>>    Thread:           0 Photon nr:                 6000\n",
      ">>>    Thread:           0 Photon nr:                 7000\n",
      ">>>    Thread:           0 Photon nr:                 8000\n",
      ">>>    Thread:           0 Photon nr:                 9000\n",
      ">>>    Thread:           0 Photon nr:                10000\n",
      ">>>    Thread:           0 Photon nr:                11000\n",
      ">>>    Thread:           0 Photon nr:                12000\n",
      ">>>    Thread:           0 Photon nr:                13000\n",
      ">>>    Thread:           0 Photon nr:                14000\n",
      ">>>    Thread:           0 Photon nr:                15000\n",
      ">>>    Thread:           0 Photon nr:                16000\n",
      ">>>    Thread:           0 Photon nr:                17000\n",
      ">>>    Thread:           0 Photon nr:                18000\n",
      ">>>    Thread:           0 Photon nr:                19000\n",
      ">>>    Thread:           0 Photon nr:                20000\n",
      ">>>    Thread:           0 Photon nr:                21000\n",
      ">>>    Thread:           0 Photon nr:                22000\n",
      ">>>    Thread:           0 Photon nr:                23000\n",
      ">>>    Thread:           0 Photon nr:                24000\n",
      ">>>    Thread:           0 Photon nr:                25000\n",
      ">>>    Thread:           0 Photon nr:                26000\n",
      ">>>    Thread:           0 Photon nr:                27000\n",
      ">>>    Thread:           0 Photon nr:                28000\n",
      ">>>    Thread:           0 Photon nr:                29000\n",
      ">>>    Thread:           0 Photon nr:                30000\n",
      ">>>    Thread:           0 Photon nr:                31000\n",
      ">>>    Thread:           0 Photon nr:                32000\n",
      ">>>    Thread:           0 Photon nr:                33000\n",
      ">>>    Thread:           0 Photon nr:                34000\n",
      ">>>    Thread:           0 Photon nr:                35000\n",
      ">>>    Thread:           0 Photon nr:                36000\n",
      ">>>    Thread:           0 Photon nr:                37000\n",
      ">>>    Thread:           0 Photon nr:                38000\n",
      ">>>    Thread:           0 Photon nr:                39000\n",
      ">>>    Thread:           0 Photon nr:                40000\n",
      ">>>    Thread:           0 Photon nr:                41000\n",
      ">>>    Thread:           0 Photon nr:                42000\n",
      ">>>    Thread:           0 Photon nr:                43000\n",
      ">>>    Thread:           0 Photon nr:                44000\n",
      ">>>    Thread:           0 Photon nr:                45000\n",
      ">>>    Thread:           0 Photon nr:                46000\n",
      ">>>    Thread:           0 Photon nr:                47000\n",
      ">>>    Thread:           0 Photon nr:                48000\n",
      ">>>    Thread:           0 Photon nr:                49000\n",
      ">>>    Thread:           0 Photon nr:                50000\n",
      ">>>    Thread:           0 Photon nr:                51000\n",
      ">>>    Thread:           0 Photon nr:                52000\n",
      ">>>    Thread:           0 Photon nr:                53000\n",
      ">>>    Thread:           0 Photon nr:                54000\n",
      ">>>    Thread:           0 Photon nr:                55000\n",
      ">>>    Thread:           0 Photon nr:                56000\n",
      ">>>    Thread:           0 Photon nr:                57000\n",
      ">>>    Thread:           0 Photon nr:                58000\n",
      ">>>    Thread:           0 Photon nr:                59000\n",
      ">>>    Thread:           0 Photon nr:                60000\n",
      ">>>    Thread:           0 Photon nr:                61000\n",
      ">>>    Thread:           0 Photon nr:                62000\n",
      ">>>    Thread:           0 Photon nr:                63000\n",
      ">>>    Thread:           0 Photon nr:                64000\n",
      ">>>    Thread:           0 Photon nr:                65000\n",
      ">>>    Thread:           0 Photon nr:                66000\n",
      ">>>    Thread:           0 Photon nr:                67000\n",
      ">>>    Thread:           0 Photon nr:                68000\n",
      ">>>    Thread:           0 Photon nr:                69000\n",
      ">>>    Thread:           0 Photon nr:                70000\n",
      ">>>    Thread:           0 Photon nr:                71000\n",
      ">>>    Thread:           0 Photon nr:                72000\n",
      ">>>    Thread:           0 Photon nr:                73000\n",
      ">>>    Thread:           0 Photon nr:                74000\n",
      ">>>    Thread:           0 Photon nr:                75000\n",
      ">>>    Thread:           0 Photon nr:                76000\n",
      ">>>    Thread:           0 Photon nr:                77000\n",
      ">>>    Thread:           0 Photon nr:                78000\n",
      ">>>    Thread:           0 Photon nr:                79000\n",
      ">>>    Thread:           0 Photon nr:                80000\n",
      ">>>    Thread:           0 Photon nr:                81000\n",
      ">>>    Thread:           0 Photon nr:                82000\n",
      ">>>    Thread:           0 Photon nr:                83000\n",
      ">>>    Thread:           0 Photon nr:                84000\n",
      ">>>    Thread:           0 Photon nr:                85000\n",
      ">>>    Thread:           0 Photon nr:                86000\n",
      ">>>    Thread:           0 Photon nr:                87000\n",
      ">>>    Thread:           0 Photon nr:                88000\n",
      ">>>    Thread:           0 Photon nr:                89000\n",
      ">>>    Thread:           0 Photon nr:                90000\n",
      ">>>    Thread:           0 Photon nr:                91000\n",
      ">>>    Thread:           0 Photon nr:                92000\n",
      ">>>    Thread:           0 Photon nr:                93000\n",
      ">>>    Thread:           0 Photon nr:                94000\n",
      ">>>    Thread:           0 Photon nr:                95000\n",
      ">>>    Thread:           0 Photon nr:                96000\n",
      ">>>    Thread:           0 Photon nr:                97000\n",
      ">>>    Thread:           0 Photon nr:                98000\n",
      ">>>    Thread:           0 Photon nr:                99000\n",
      ">>>    Thread:           0 Photon nr:               100000\n",
      ">>>    Elapsed time:   3.5252499999996871\n",
      ">>>    Average number of scattering events per photon package =    2.6306699999999998\n",
      ">>>    Warning: Using mc_scat_maxtauabs =   5.00 (this is fine, but be aware of it).\n",
      ">>>    Ray-tracing image for lambda =    1250.0000000000000       micron...\n",
      ">>>    Writing image to file...\n",
      ">>>    Used scattering_mode=1, meaning: isotropic scattering approximation.\n",
      ">>>    Diagnostics of flux-conservation (sub-pixeling):\n",
      ">>>        Nr of main pixels (nx*ny)   =       250000\n",
      ">>>        Nr of (sub)pixels raytraced =       293504\n",
      ">>>        Nr of (sub)pixels used      =       282794\n",
      ">>>        Increase of raytracing cost =    1.1740159999999999\n",
      ">>>    Done...\n"
     ]
    }
   ],
   "source": [
    "# ## Calculate the mm continuum image\n",
    "\n",
    "fname_mm_sim = Path(temp_path) / 'image_mm.fits'\n",
    "disklab.radmc3d.radmc3d(\n",
    "    f'image incl {inc} posang {PA-90} npix 500 lambda {lam_mm * 1e4} sizeau {2 * rout / au} secondorder  setthreads 1',\n",
    "    path=temp_path,\n",
    "    executable=str(radmc3d_exec)\n",
    ")"
   ],
   "metadata": {
    "collapsed": false,
    "pycharm": {
     "name": "#%%\n"
    }
   }
  },
  {
   "cell_type": "code",
   "execution_count": 8,
   "outputs": [
    {
     "name": "stdout",
     "output_type": "stream",
     "text": [
      "Reading tmp5mszoncm/image.out\n"
     ]
    }
   ],
   "source": [
    "radmc_image = Path(temp_path) / 'image.out'\n",
    "\n",
    "if radmc_image.is_file():\n",
    "    im_mm_sim = image.readImage(str(radmc_image))\n",
    "    radmc_image.replace(Path(temp_path) / 'image_mm.out')\n",
    "    radmc_image = Path(temp_path) / 'image_mm.out'\n",
    "    im_mm_sim.writeFits(str(fname_mm_sim), dpc=dpc, coord='15h56m09.17658s -37d56m06.1193s')"
   ],
   "metadata": {
    "collapsed": false,
    "pycharm": {
     "name": "#%%\n"
    }
   }
  },
  {
   "cell_type": "markdown",
   "source": [
    "Making sure the image looks all right"
   ],
   "metadata": {
    "collapsed": false,
    "pycharm": {
     "name": "#%% md\n"
    }
   }
  },
  {
   "cell_type": "code",
   "execution_count": 9,
   "outputs": [
    {
     "name": "stdout",
     "output_type": "stream",
     "text": [
      "Reading tmp5mszoncm/image_mm.out\n"
     ]
    },
    {
     "data": {
      "text/plain": "<Figure size 432x288 with 2 Axes>",
      "image/png": "[encoded data removed]"
     },
     "metadata": {
      "needs_background": "light"
     },
     "output_type": "display_data"
    },
    {
     "data": {
      "text/plain": "{'implot': <matplotlib.image.AxesImage at 0x1a1c7a5d90>,\n 'cbar': <matplotlib.colorbar.Colorbar at 0x1a1c7be110>}"
     },
     "execution_count": 9,
     "metadata": {},
     "output_type": "execute_result"
    }
   ],
   "source": [
    "im = image.readImage(str(radmc_image))\n",
    "plt.figure()\n",
    "image.plotImage(im ,au=True, log=True, maxlog=3, bunit='jy/pixel', dpc=dpc, cmap='magma');"
   ],
   "metadata": {
    "collapsed": false,
    "pycharm": {
     "name": "#%%\n"
    }
   }
  },
  {
   "cell_type": "markdown",
   "source": [
    "Creating the imagecube files"
   ],
   "metadata": {
    "collapsed": false,
    "pycharm": {
     "name": "#%% md\n"
    }
   }
  },
  {
   "cell_type": "code",
   "execution_count": 10,
   "outputs": [
    {
     "name": "stdout",
     "output_type": "stream",
     "text": [
      "WARNING: Provided cube is only 2D. Shifting not available.\n",
      "WARNING: No beam values found. Assuming pixel as beam.\n",
      "WARNING: Provided cube is only 2D. Shifting not available.\n"
     ]
    }
   ],
   "source": [
    "iq_mm_obs = imagecube(str(fname_mm_obs), FOV=clip)\n",
    "iq_mm_sim = imagecube(str(fname_mm_sim))\n",
    "\n",
    "iq_mm_sim.bmaj, iq_mm_sim.bmin, iq_mm_sim.bpa = iq_mm_obs.beam\n",
    "iq_mm_sim.beamarea_arcsec = iq_mm_sim._calculate_beam_area_arcsec()\n",
    "iq_mm_sim.beamarea_str = iq_mm_sim._calculate_beam_area_str()"
   ],
   "metadata": {
    "collapsed": false,
    "pycharm": {
     "name": "#%%\n"
    }
   }
  },
  {
   "cell_type": "markdown",
   "source": [
    "Checking the output"
   ],
   "metadata": {
    "collapsed": false,
    "pycharm": {
     "name": "#%% md\n"
    }
   }
  },
  {
   "cell_type": "code",
   "execution_count": 11,
   "outputs": [
    {
     "data": {
      "text/plain": "<matplotlib.image.AxesImage at 0x1a48cffed0>"
     },
     "execution_count": 11,
     "metadata": {},
     "output_type": "execute_result"
    },
    {
     "data": {
      "text/plain": "<Figure size 432x288 with 2 Axes>",
      "image/png": "[encoded data removed]"
     },
     "metadata": {
      "needs_background": "light"
     },
     "output_type": "display_data"
    }
   ],
   "source": [
    "f, ax = plt.subplots(1, 2)\n",
    "\n",
    "ax[0].imshow(iq_mm_obs.data, extent=iq_mm_obs.extent, vmin=0,vmax=7e-4, origin='lower')\n",
    "\n",
    "ax[1].imshow(iq_mm_sim.data, extent=iq_mm_sim.extent, vmin=0,vmax=7e-5, origin='lower')"
   ],
   "metadata": {
    "collapsed": false,
    "pycharm": {
     "name": "#%%\n"
    }
   }
  },
  {
   "cell_type": "markdown",
   "source": [
    "Simulation radial profile using GoFish"
   ],
   "metadata": {
    "collapsed": false,
    "pycharm": {
     "name": "#%% md\n"
    }
   }
  },
  {
   "cell_type": "code",
   "execution_count": 12,
   "outputs": [
    {
     "name": "stdout",
     "output_type": "stream",
     "text": [
      "WARNING: Attached data is not 3D, so shifting cannot be applied.\n",
      "\t Reverting to standard azimuthal averaging; will ignore `unit` argument.\n"
     ]
    },
    {
     "data": {
      "text/plain": "[<matplotlib.lines.Line2D at 0x1a48653ed0>]"
     },
     "execution_count": 12,
     "metadata": {},
     "output_type": "execute_result"
    },
    {
     "data": {
      "text/plain": "<Figure size 432x288 with 1 Axes>",
      "image/png": "[encoded data removed]"
     },
     "metadata": {
      "needs_background": "light"
     },
     "output_type": "display_data"
    }
   ],
   "source": [
    "x, y, dy = iq_mm_sim.radial_profile(inc=inc, PA=PA, z0=z0, psi=psi)\n",
    "\n",
    "f, ax = plt.subplots()\n",
    "ax.semilogy(x, y);"
   ],
   "metadata": {
    "collapsed": false,
    "pycharm": {
     "name": "#%%\n"
    }
   }
  },
  {
   "cell_type": "markdown",
   "source": [
    "For some reason, if we include the FOV the data array is empty\n",
    "\n",
    "UPDATE: for some reason now it works"
   ],
   "metadata": {
    "collapsed": false,
    "pycharm": {
     "name": "#%% md\n"
    }
   }
  },
  {
   "cell_type": "code",
   "execution_count": 13,
   "outputs": [
    {
     "name": "stdout",
     "output_type": "stream",
     "text": [
      "WARNING: No beam values found. Assuming pixel as beam.\n",
      "WARNING: Provided cube is only 2D. Shifting not available.\n",
      "[[0. 0. 0. ... 0. 0. 0.]\n",
      " [0. 0. 0. ... 0. 0. 0.]\n",
      " [0. 0. 0. ... 0. 0. 0.]\n",
      " ...\n",
      " [0. 0. 0. ... 0. 0. 0.]\n",
      " [0. 0. 0. ... 0. 0. 0.]\n",
      " [0. 0. 0. ... 0. 0. 0.]]\n",
      "WARNING: No beam values found. Assuming pixel as beam.\n",
      "WARNING: `FOV` larger than input field of view.\n",
      "WARNING: Provided cube is only 2D. Shifting not available.\n",
      "[[0. 0. 0. ... 0. 0. 0.]\n",
      " [0. 0. 0. ... 0. 0. 0.]\n",
      " [0. 0. 0. ... 0. 0. 0.]\n",
      " ...\n",
      " [0. 0. 0. ... 0. 0. 0.]\n",
      " [0. 0. 0. ... 0. 0. 0.]\n",
      " [0. 0. 0. ... 0. 0. 0.]]\n"
     ]
    }
   ],
   "source": [
    "data = imagecube(str(fname_mm_sim))\n",
    "print(data.data)\n",
    "\n",
    "data = imagecube(str(fname_mm_sim), FOV=clip)\n",
    "print(data.data)"
   ],
   "metadata": {
    "collapsed": false,
    "pycharm": {
     "name": "#%%\n"
    }
   }
  },
  {
   "cell_type": "markdown",
   "source": [
    "For this reason, with the clip keyword the following cell does not work.\n",
    "\n",
    "Default value: 2.5"
   ],
   "metadata": {
    "collapsed": false,
    "pycharm": {
     "name": "#%% md\n"
    }
   }
  },
  {
   "cell_type": "code",
   "execution_count": 14,
   "outputs": [
    {
     "name": "stdout",
     "output_type": "stream",
     "text": [
      "WARNING: No beam values found. Assuming pixel as beam.\n",
      "WARNING: `FOV` larger than input field of view.\n",
      "WARNING: Provided cube is only 2D. Shifting not available.\n",
      "WARNING: Attached data is not 3D, so shifting cannot be applied.\n",
      "\t Reverting to standard azimuthal averaging; will ignore `unit` argument.\n"
     ]
    },
    {
     "data": {
      "text/plain": "<Figure size 432x288 with 1 Axes>",
      "image/png": "[encoded data removed]"
     },
     "metadata": {
      "needs_background": "light"
     },
     "output_type": "display_data"
    }
   ],
   "source": [
    "x_mm_sim, y_mm_sim, dy_mm_sim = get_profile_from_fits(\n",
    "        str(fname_mm_sim),\n",
    "        clip=clip,\n",
    "        inc=inc,\n",
    "        PA=PA,\n",
    "        z0=0.0,\n",
    "        psi=0.0,\n",
    "        beam=iq_mm_obs.beam,\n",
    "        show_plots=True)"
   ],
   "metadata": {
    "collapsed": false,
    "pycharm": {
     "name": "#%%\n"
    }
   }
  },
  {
   "cell_type": "code",
   "execution_count": 15,
   "outputs": [],
   "source": [
    "# Maybe here is min, not max?\n",
    "i_max = min(len(x_mm_obs), len(x_mm_sim))\n",
    "\n",
    "x_mm_sim = x_mm_sim[:i_max]\n",
    "y_mm_sim = y_mm_sim[:i_max]\n",
    "dy_mm_sim = dy_mm_sim[:i_max]\n",
    "x_mm_obs = x_mm_obs[:i_max]\n",
    "y_mm_obs = y_mm_obs[:i_max]\n",
    "dy_mm_obs = dy_mm_obs[:i_max]"
   ],
   "metadata": {
    "collapsed": false,
    "pycharm": {
     "name": "#%%\n"
    }
   }
  },
  {
   "cell_type": "code",
   "execution_count": 16,
   "outputs": [],
   "source": [
    "if not np.allclose(x_mm_sim, x_mm_obs):\n",
    "    try:\n",
    "        from IPython import embed\n",
    "        embed()\n",
    "    except Exception:\n",
    "        raise AssertionError('observed and simulated radial profile grids are not equal')"
   ],
   "metadata": {
    "collapsed": false,
    "pycharm": {
     "name": "#%%\n"
    }
   }
  },
  {
   "cell_type": "code",
   "execution_count": 17,
   "outputs": [],
   "source": [
    "for i_grain in range(n_a):\n",
    "    opacity.write_radmc3d_scatmat_file(i_grain, opac_dict, f'{i_grain}', path=temp_path)\n",
    "\n",
    "with open(Path(temp_path) / 'dustopac.inp', 'w') as f:\n",
    "    write(f, '2               Format number of this file')\n",
    "    write(f, '{}              Nr of dust species'.format(n_a))\n",
    "\n",
    "    for i_grain in range(n_a):\n",
    "        write(f, '============================================================================')\n",
    "        write(f, '10               Way in which this dust species is read')\n",
    "        write(f, '0               0=Thermal grain')\n",
    "        write(f, '{}              Extension of name of dustscatmat_***.inp file'.format(i_grain))\n",
    "\n",
    "    write(f, '----------------------------------------------------------------------------')"
   ],
   "metadata": {
    "collapsed": false,
    "pycharm": {
     "name": "#%%\n"
    }
   }
  },
  {
   "cell_type": "code",
   "execution_count": 18,
   "outputs": [
    {
     "name": "stdout",
     "output_type": "stream",
     "text": [
      "WARNING: No beam values found. Assuming pixel as beam.\n",
      "WARNING: `clip` is depreciated, use `FOV` instead.\n",
      "WARNING: Provided cube is only 2D. Shifting not available.\n"
     ]
    }
   ],
   "source": [
    "# image calculation\n",
    "\n",
    "iq_sca_obs = imagecube(str(fname_sca_obs), FOV=clip)"
   ],
   "metadata": {
    "collapsed": false,
    "pycharm": {
     "name": "#%%\n"
    }
   }
  },
  {
   "cell_type": "code",
   "execution_count": 19,
   "outputs": [
    {
     "name": "stdout",
     "output_type": "stream",
     "text": [
      ">>>   \n",
      ">>>    ================================================================\n",
      ">>>         WELCOME TO RADMC-3D: A 3-D CONTINUUM AND LINE RT SOLVER\n",
      ">>>   \n",
      ">>>                             VERSION 2.0\n",
      ">>>   \n",
      ">>>                   (c) 2008-2020 Cornelis Dullemond\n",
      ">>>   \n",
      ">>>          Please feel free to ask questions. Also please report\n",
      ">>>           bugs and/or suspicious behavior without hestitation.\n",
      ">>>         The reliability of this code depends on your vigilance!\n",
      ">>>                       dullemond@uni-heidelberg.de\n",
      ">>>   \n",
      ">>>      To keep up-to-date with bug-alarms and bugfixes, register to\n",
      ">>>                        the RADMC-3D forum:\n",
      ">>>               http://radmc3d.ita.uni-heidelberg.de/phpbb/\n",
      ">>>   \n",
      ">>>                 Please visit the RADMC-3D home page at\n",
      ">>>     http://www.ita.uni-heidelberg.de/~dullemond/software/radmc-3d/\n",
      ">>>    ================================================================\n",
      ">>>   \n",
      ">>>    Number of processors:            8\n",
      ">>>    Number of threads in use:            4\n",
      ">>>    Reading global frequencies/wavelengths...\n",
      ">>>    Reading grid file and prepare grid tree...\n",
      ">>>    Reading star data...\n",
      ">>>    Note: Star 1 is taken to be a blackbody star\n",
      ">>>          at a temperature T = 4266. Kelvin\n",
      ">>>    Treating stars as finite-size spheres...\n",
      ">>>    Grid information (current status):\n",
      ">>>      We have 21800 branches, of which 21800 are actual grid cells.\n",
      ">>>      ---> 100.000% mem use for branches, and 100.000% mem use for actual cells.\n",
      ">>>      No grid refinement is active. The AMR tree is not allocated (this saves memory).\n",
      ">>>    Reading the heat source spatial distribution...\n",
      ">>>    Starting procedure for rendering image...\n",
      ">>>      --> Including dust\n",
      ">>>          No lines included...\n",
      ">>>          No gas continuum included...\n",
      ">>>    Reading dust data...\n",
      ">>>    Note: Opacity file dustkapscatmat_0.inp does not cover the\n",
      ">>>          complete wavelength range of the model (i.e. the range\n",
      ">>>          in the file frequency.inp or wavelength_micron.inp).\n",
      ">>>          Range of model:     lambda = [ 0.10E+00, 0.10E+06]\n",
      ">>>          Range in this file: lambda = [ 0.10E+00, 0.10E+06]\n",
      ">>>          Simple extrapolations are used to extend this range.\n",
      ">>>    Warning: The scattering opacities kappa_s in the file dustkapscatmat_0.inp\n",
      ">>>             have relative differences of up to    1.4907108212514064E-004  with the\n",
      ">>>             scattering matrix elements in the same file. I will correct kappa_s.\n",
      ">>>    Note: Opacity file dustkapscatmat_1.inp does not cover the\n",
      ">>>          complete wavelength range of the model (i.e. the range\n",
      ">>>          in the file frequency.inp or wavelength_micron.inp).\n",
      ">>>          Range of model:     lambda = [ 0.10E+00, 0.10E+06]\n",
      ">>>          Range in this file: lambda = [ 0.10E+00, 0.10E+06]\n",
      ">>>          Simple extrapolations are used to extend this range.\n",
      ">>>    Warning: The scattering opacities kappa_s in the file dustkapscatmat_1.inp\n",
      ">>>             have relative differences of up to    1.5043852347418341E-004  with the\n",
      ">>>             scattering matrix elements in the same file. I will correct kappa_s.\n",
      ">>>    Note: Opacity file dustkapscatmat_2.inp does not cover the\n",
      ">>>          complete wavelength range of the model (i.e. the range\n",
      ">>>          in the file frequency.inp or wavelength_micron.inp).\n",
      ">>>          Range of model:     lambda = [ 0.10E+00, 0.10E+06]\n",
      ">>>          Range in this file: lambda = [ 0.10E+00, 0.10E+06]\n",
      ">>>          Simple extrapolations are used to extend this range.\n",
      ">>>    Warning: The scattering opacities kappa_s in the file dustkapscatmat_2.inp\n",
      ">>>             have relative differences of up to    1.5061253349424319E-004  with the\n",
      ">>>             scattering matrix elements in the same file. I will correct kappa_s.\n",
      ">>>    Note: Opacity file dustkapscatmat_3.inp does not cover the\n",
      ">>>          complete wavelength range of the model (i.e. the range\n",
      ">>>          in the file frequency.inp or wavelength_micron.inp).\n",
      ">>>          Range of model:     lambda = [ 0.10E+00, 0.10E+06]\n",
      ">>>          Range in this file: lambda = [ 0.10E+00, 0.10E+06]\n",
      ">>>          Simple extrapolations are used to extend this range.\n",
      ">>>    Warning: The scattering opacities kappa_s in the file dustkapscatmat_3.inp\n",
      ">>>             have relative differences of up to    1.5067107677524394E-004  with the\n",
      ">>>             scattering matrix elements in the same file. I will correct kappa_s.\n",
      ">>>    Note: Opacity file dustkapscatmat_4.inp does not cover the\n",
      ">>>          complete wavelength range of the model (i.e. the range\n",
      ">>>          in the file frequency.inp or wavelength_micron.inp).\n",
      ">>>          Range of model:     lambda = [ 0.10E+00, 0.10E+06]\n",
      ">>>          Range in this file: lambda = [ 0.10E+00, 0.10E+06]\n",
      ">>>          Simple extrapolations are used to extend this range.\n",
      ">>>    Warning: The scattering opacities kappa_s in the file dustkapscatmat_4.inp\n",
      ">>>             have relative differences of up to    1.5059198430722454E-004  with the\n",
      ">>>             scattering matrix elements in the same file. I will correct kappa_s.\n",
      ">>>    Note: Opacity file dustkapscatmat_5.inp does not cover the\n",
      ">>>          complete wavelength range of the model (i.e. the range\n",
      ">>>          in the file frequency.inp or wavelength_micron.inp).\n",
      ">>>          Range of model:     lambda = [ 0.10E+00, 0.10E+06]\n",
      ">>>          Range in this file: lambda = [ 0.10E+00, 0.10E+06]\n",
      ">>>          Simple extrapolations are used to extend this range.\n",
      ">>>    Warning: The scattering opacities kappa_s in the file dustkapscatmat_5.inp\n",
      ">>>             have relative differences of up to    1.5060725530735564E-004  with the\n",
      ">>>             scattering matrix elements in the same file. I will correct kappa_s.\n",
      ">>>    Note: Opacity file dustkapscatmat_6.inp does not cover the\n",
      ">>>          complete wavelength range of the model (i.e. the range\n",
      ">>>          in the file frequency.inp or wavelength_micron.inp).\n",
      ">>>          Range of model:     lambda = [ 0.10E+00, 0.10E+06]\n",
      ">>>          Range in this file: lambda = [ 0.10E+00, 0.10E+06]\n",
      ">>>          Simple extrapolations are used to extend this range.\n",
      ">>>    Warning: The scattering opacities kappa_s in the file dustkapscatmat_6.inp\n",
      ">>>             have relative differences of up to    1.5066014372122627E-004  with the\n",
      ">>>             scattering matrix elements in the same file. I will correct kappa_s.\n",
      ">>>    Note: Opacity file dustkapscatmat_7.inp does not cover the\n",
      ">>>          complete wavelength range of the model (i.e. the range\n",
      ">>>          in the file frequency.inp or wavelength_micron.inp).\n",
      ">>>          Range of model:     lambda = [ 0.10E+00, 0.10E+06]\n",
      ">>>          Range in this file: lambda = [ 0.10E+00, 0.10E+06]\n",
      ">>>          Simple extrapolations are used to extend this range.\n",
      ">>>    Warning: The scattering opacities kappa_s in the file dustkapscatmat_7.inp\n",
      ">>>             have relative differences of up to    1.5064277324561282E-004  with the\n",
      ">>>             scattering matrix elements in the same file. I will correct kappa_s.\n",
      ">>>    Note: Opacity file dustkapscatmat_8.inp does not cover the\n",
      ">>>          complete wavelength range of the model (i.e. the range\n",
      ">>>          in the file frequency.inp or wavelength_micron.inp).\n",
      ">>>          Range of model:     lambda = [ 0.10E+00, 0.10E+06]\n",
      ">>>          Range in this file: lambda = [ 0.10E+00, 0.10E+06]\n",
      ">>>          Simple extrapolations are used to extend this range.\n",
      ">>>    Warning: The scattering opacities kappa_s in the file dustkapscatmat_8.inp\n",
      ">>>             have relative differences of up to    1.5060246851694714E-004  with the\n",
      ">>>             scattering matrix elements in the same file. I will correct kappa_s.\n",
      ">>>    Note: Opacity file dustkapscatmat_9.inp does not cover the\n",
      ">>>          complete wavelength range of the model (i.e. the range\n",
      ">>>          in the file frequency.inp or wavelength_micron.inp).\n",
      ">>>          Range of model:     lambda = [ 0.10E+00, 0.10E+06]\n",
      ">>>          Range in this file: lambda = [ 0.10E+00, 0.10E+06]\n",
      ">>>          Simple extrapolations are used to extend this range.\n",
      ">>>    Warning: The scattering opacities kappa_s in the file dustkapscatmat_9.inp\n",
      ">>>             have relative differences of up to    1.5053101709983085E-004  with the\n",
      ">>>             scattering matrix elements in the same file. I will correct kappa_s.\n",
      ">>>    Note: Opacity file dustkapscatmat_10.inp does not cover the\n",
      ">>>          complete wavelength range of the model (i.e. the range\n",
      ">>>          in the file frequency.inp or wavelength_micron.inp).\n",
      ">>>          Range of model:     lambda = [ 0.10E+00, 0.10E+06]\n",
      ">>>          Range in this file: lambda = [ 0.10E+00, 0.10E+06]\n",
      ">>>          Simple extrapolations are used to extend this range.\n",
      ">>>    Warning: The scattering opacities kappa_s in the file dustkapscatmat_10.inp\n",
      ">>>             have relative differences of up to    1.5055185973966712E-004  with the\n",
      ">>>             scattering matrix elements in the same file. I will correct kappa_s.\n",
      ">>>    Note: Opacity file dustkapscatmat_11.inp does not cover the\n",
      ">>>          complete wavelength range of the model (i.e. the range\n",
      ">>>          in the file frequency.inp or wavelength_micron.inp).\n",
      ">>>          Range of model:     lambda = [ 0.10E+00, 0.10E+06]\n",
      ">>>          Range in this file: lambda = [ 0.10E+00, 0.10E+06]\n",
      ">>>          Simple extrapolations are used to extend this range.\n",
      ">>>    Warning: The scattering opacities kappa_s in the file dustkapscatmat_11.inp\n",
      ">>>             have relative differences of up to    1.5049334286276750E-004  with the\n",
      ">>>             scattering matrix elements in the same file. I will correct kappa_s.\n",
      ">>>    Note: Opacity file dustkapscatmat_12.inp does not cover the\n",
      ">>>          complete wavelength range of the model (i.e. the range\n",
      ">>>          in the file frequency.inp or wavelength_micron.inp).\n",
      ">>>          Range of model:     lambda = [ 0.10E+00, 0.10E+06]\n",
      ">>>          Range in this file: lambda = [ 0.10E+00, 0.10E+06]\n",
      ">>>          Simple extrapolations are used to extend this range.\n",
      ">>>    Warning: The scattering opacities kappa_s in the file dustkapscatmat_12.inp\n",
      ">>>             have relative differences of up to    1.5040585874626089E-004  with the\n",
      ">>>             scattering matrix elements in the same file. I will correct kappa_s.\n",
      ">>>    Note: Opacity file dustkapscatmat_13.inp does not cover the\n",
      ">>>          complete wavelength range of the model (i.e. the range\n",
      ">>>          in the file frequency.inp or wavelength_micron.inp).\n",
      ">>>          Range of model:     lambda = [ 0.10E+00, 0.10E+06]\n",
      ">>>          Range in this file: lambda = [ 0.10E+00, 0.10E+06]\n",
      ">>>          Simple extrapolations are used to extend this range.\n",
      ">>>    Warning: The scattering opacities kappa_s in the file dustkapscatmat_13.inp\n",
      ">>>             have relative differences of up to    1.5028008740891607E-004  with the\n",
      ">>>             scattering matrix elements in the same file. I will correct kappa_s.\n",
      ">>>    Note: Opacity file dustkapscatmat_14.inp does not cover the\n",
      ">>>          complete wavelength range of the model (i.e. the range\n",
      ">>>          in the file frequency.inp or wavelength_micron.inp).\n",
      ">>>          Range of model:     lambda = [ 0.10E+00, 0.10E+06]\n",
      ">>>          Range in this file: lambda = [ 0.10E+00, 0.10E+06]\n",
      ">>>          Simple extrapolations are used to extend this range.\n",
      ">>>    Warning: The scattering opacities kappa_s in the file dustkapscatmat_14.inp\n",
      ">>>             have relative differences of up to    1.5029235218044779E-004  with the\n",
      ">>>             scattering matrix elements in the same file. I will correct kappa_s.\n",
      ">>>    Reading dust densities...\n",
      ">>>    Dust mass in species            1  =    1.4133938953624317E-004  Msun\n",
      ">>>    Dust mass in species            2  =    2.4517473409992768E-004  Msun\n",
      ">>>    Dust mass in species            3  =    4.2520176647158238E-004  Msun\n",
      ">>>    Dust mass in species            4  =    7.3685959784027834E-004  Msun\n",
      ">>>    Dust mass in species            5  =    9.1495435465097313E-004  Msun\n",
      ">>>    Dust mass in species            6  =    2.3180474936223563E-004  Msun\n",
      ">>>    Dust mass in species            7  =    3.1751342140478426E-005  Msun\n",
      ">>>    Dust mass in species            8  =    3.9485138984486342E-006  Msun\n",
      ">>>    Dust mass in species            9  =    4.6622542761093304E-007  Msun\n",
      ">>>    Dust mass in species           10  =    2.7562359799465113E-008  Msun\n",
      ">>>    Dust mass in species           11  =    2.4487447401129255E-085  Msun\n",
      ">>>    Dust mass in species           12  =    2.4487447401129255E-085  Msun\n",
      ">>>    Dust mass in species           13  =    2.4487447401129255E-085  Msun\n",
      ">>>    Dust mass in species           14  =    2.4487447401129255E-085  Msun\n",
      ">>>    Dust mass in species           15  =    2.4487447401129255E-085  Msun\n",
      ">>>    Dust mass total =    2.7315282357875774E-003  Msun\n",
      ">>>    Reading dust temperatures...\n",
      ">>>    Note: Using 2-D full-phase scattering mode. This requires a bit of extra memory.\n",
      ">>>    Rendering image(s)...\n",
      ">>>    Doing scattering Monte Carlo simulation for lambda =    1.6499999999999997       micron...\n",
      ">>>    Beware: The OpenMP-parallel acceleration of RADMC-3D has\n",
      ">>>            not yet been tested with all of the modes and\n",
      ">>>            features that RADMC-3D offers. Please check\n",
      ">>>            your parallel results against the serial version\n",
      ">>>            (i.e. compiling without -fopenmp).\n",
      ">>>    Warning: using dust_2daniso_nphi =   60 (this is fine, but may make the phase function less accurate)\n",
      ">>>    In Monte Carlo we will use a linear-spaced scattering angle grid of  181 gridpoints between 0 and 180 degrees.\n",
      ">>>    Using dust scattering mode            5\n",
      ">>>    Wavelength nr            1  corresponding to lambda=   1.6499999999999997       micron\n",
      ">>>    Thread Nr           3 of           4 threads in total\n",
      ">>>    Thread Nr           1 of           4 threads in total\n",
      ">>>    Thread Nr           2 of           4 threads in total\n",
      ">>>    Thread Nr           0 of           4 threads in total\n",
      ">>>    Thread:           0 Photon nr:                 1000\n",
      ">>>    Thread:           3 Photon nr:                 2000\n",
      ">>>    Thread:           2 Photon nr:                 3000\n",
      ">>>    Thread:           2 Photon nr:                 4000\n",
      ">>>    Thread:           0 Photon nr:                 5000\n",
      ">>>    Thread:           2 Photon nr:                 6000\n",
      ">>>    Thread:           0 Photon nr:                 7000\n",
      ">>>    Thread:           2 Photon nr:                 8000\n",
      ">>>    Thread:           3 Photon nr:                 9000\n",
      ">>>    Thread:           3 Photon nr:                10000\n",
      ">>>    Thread:           2 Photon nr:                11000\n",
      ">>>    Thread:           1 Photon nr:                12000\n",
      ">>>    Thread:           3 Photon nr:                13000\n",
      ">>>    Thread:           3 Photon nr:                14000\n",
      ">>>    Thread:           1 Photon nr:                15000\n",
      ">>>    Thread:           0 Photon nr:                16000\n",
      ">>>    Thread:           0 Photon nr:                17000\n",
      ">>>    Thread:           0 Photon nr:                18000\n",
      ">>>    Thread:           3 Photon nr:                19000\n",
      ">>>    Thread:           3 Photon nr:                20000\n",
      ">>>    Thread:           2 Photon nr:                21000\n",
      ">>>    Thread:           0 Photon nr:                22000\n",
      ">>>    Thread:           2 Photon nr:                23000\n",
      ">>>    Thread:           3 Photon nr:                24000\n",
      ">>>    Thread:           2 Photon nr:                25000\n",
      ">>>    Thread:           2 Photon nr:                26000\n",
      ">>>    Thread:           1 Photon nr:                27000\n",
      ">>>    Thread:           1 Photon nr:                28000\n",
      ">>>    Thread:           0 Photon nr:                29000\n",
      ">>>    Thread:           3 Photon nr:                30000\n",
      ">>>    Thread:           2 Photon nr:                31000\n",
      ">>>    Thread:           3 Photon nr:                32000\n",
      ">>>    Thread:           0 Photon nr:                33000\n",
      ">>>    Thread:           2 Photon nr:                34000\n",
      ">>>    Thread:           2 Photon nr:                35000\n",
      ">>>    Thread:           1 Photon nr:                36000\n",
      ">>>    Thread:           3 Photon nr:                37000\n",
      ">>>    Thread:           2 Photon nr:                38000\n",
      ">>>    Thread:           1 Photon nr:                39000\n",
      ">>>    Thread:           3 Photon nr:                40000\n",
      ">>>    Thread:           3 Photon nr:                41000\n",
      ">>>    Thread:           3 Photon nr:                42000\n",
      ">>>    Thread:           1 Photon nr:                43000\n",
      ">>>    Thread:           2 Photon nr:                44000\n",
      ">>>    Thread:           3 Photon nr:                45000\n",
      ">>>    Thread:           1 Photon nr:                46000\n",
      ">>>    Thread:           3 Photon nr:                47000\n",
      ">>>    Thread:           2 Photon nr:                48000\n",
      ">>>    Thread:           0 Photon nr:                49000\n",
      ">>>    Thread:           0 Photon nr:                50000\n",
      ">>>    Thread:           2 Photon nr:                51000\n",
      ">>>    Thread:           0 Photon nr:                52000\n",
      ">>>    Thread:           0 Photon nr:                53000\n",
      ">>>    Thread:           1 Photon nr:                54000\n",
      ">>>    Thread:           1 Photon nr:                55000\n",
      ">>>    Thread:           1 Photon nr:                56000\n",
      ">>>    Thread:           2 Photon nr:                57000\n",
      ">>>    Thread:           0 Photon nr:                58000\n",
      ">>>    Thread:           0 Photon nr:                59000\n",
      ">>>    Thread:           0 Photon nr:                60000\n",
      ">>>    Thread:           1 Photon nr:                61000\n",
      ">>>    Thread:           1 Photon nr:                62000\n",
      ">>>    Thread:           1 Photon nr:                63000\n",
      ">>>    Thread:           1 Photon nr:                64000\n",
      ">>>    Thread:           2 Photon nr:                65000\n",
      ">>>    Thread:           0 Photon nr:                66000\n",
      ">>>    Thread:           1 Photon nr:                67000\n",
      ">>>    Thread:           2 Photon nr:                68000\n",
      ">>>    Thread:           3 Photon nr:                69000\n",
      ">>>    Thread:           2 Photon nr:                70000\n",
      ">>>    Thread:           2 Photon nr:                71000\n",
      ">>>    Thread:           0 Photon nr:                72000\n",
      ">>>    Thread:           2 Photon nr:                73000\n",
      ">>>    Thread:           3 Photon nr:                74000\n",
      ">>>    Thread:           0 Photon nr:                75000\n",
      ">>>    Thread:           0 Photon nr:                76000\n",
      ">>>    Thread:           3 Photon nr:                77000\n",
      ">>>    Thread:           3 Photon nr:                78000\n",
      ">>>    Thread:           3 Photon nr:                79000\n",
      ">>>    Thread:           0 Photon nr:                80000\n",
      ">>>    Thread:           0 Photon nr:                81000\n",
      ">>>    Thread:           2 Photon nr:                82000\n",
      ">>>    Thread:           3 Photon nr:                83000\n",
      ">>>    Thread:           1 Photon nr:                84000\n",
      ">>>    Thread:           1 Photon nr:                85000\n",
      ">>>    Thread:           3 Photon nr:                86000\n",
      ">>>    Thread:           2 Photon nr:                87000\n",
      ">>>    Thread:           1 Photon nr:                88000\n",
      ">>>    Thread:           2 Photon nr:                89000\n",
      ">>>    Thread:           1 Photon nr:                90000\n",
      ">>>    Thread:           2 Photon nr:                91000\n",
      ">>>    Thread:           1 Photon nr:                92000\n",
      ">>>    Thread:           0 Photon nr:                93000\n",
      ">>>    Thread:           0 Photon nr:                94000\n",
      ">>>    Thread:           3 Photon nr:                95000\n",
      ">>>    Thread:           0 Photon nr:                96000\n",
      ">>>    Thread:           2 Photon nr:                97000\n",
      ">>>    Thread:           1 Photon nr:                98000\n",
      ">>>    Thread:           2 Photon nr:                99000\n",
      ">>>    Thread:           1 Photon nr:               100000\n",
      ">>>    Elapsed time:   50.172958000000108\n",
      ">>>    Average number of scattering events per photon package =    7.2067399999999999\n",
      ">>>    Warning: Using mc_scat_maxtauabs =   5.00 (this is fine, but be aware of it).\n",
      ">>>    Ray-tracing image for lambda =    1.6499999999999997       micron...\n",
      ">>>    Writing image to file...\n",
      ">>>    Used scattering_mode=5, meaning: fully polarized scattering.\n",
      ">>>    Warning: The Monte Carlo is done with full Stokes components,\n",
      ">>>             while the image is not. That is ok, but if you wish\n",
      ">>>             to have a polarized image too, then add the keyword\n",
      ">>>             stokes to the command line call of radmc3d.\n",
      ">>>    Diagnostics of flux-conservation (sub-pixeling):\n",
      ">>>        Nr of main pixels (nx*ny)   =       660969\n",
      ">>>        Nr of (sub)pixels raytraced =       698049\n",
      ">>>        Nr of (sub)pixels used      =       689183\n",
      ">>>        Increase of raytracing cost =    1.0560994539834698\n",
      ">>>    Done...\n"
     ]
    }
   ],
   "source": [
    "disklab.radmc3d.radmc3d(\n",
    "    f'image incl {inc} posang {PA-90} npix {iq_sca_obs.data.shape[0]} lambda {lam_sca / 1e-4} sizeau {2 * rout / au} setthreads 4',\n",
    "    path=temp_path,\n",
    "    executable=str(radmc3d_exec))"
   ],
   "metadata": {
    "collapsed": false,
    "pycharm": {
     "name": "#%%\n"
    }
   }
  },
  {
   "cell_type": "code",
   "execution_count": 20,
   "outputs": [],
   "source": [
    "fname_sca_sim = Path(temp_path) / 'image_sca.fits'\n",
    "if (Path(temp_path) / 'image.out').is_file():\n",
    "    (Path(temp_path) / 'image.out').replace(fname_sca_sim.with_suffix('.out'))"
   ],
   "metadata": {
    "collapsed": false,
    "pycharm": {
     "name": "#%%\n"
    }
   }
  },
  {
   "cell_type": "code",
   "execution_count": 21,
   "outputs": [
    {
     "name": "stdout",
     "output_type": "stream",
     "text": [
      "Reading tmp5mszoncm/image_sca.out\n"
     ]
    }
   ],
   "source": [
    "im = image.readImage(str(fname_sca_sim.with_suffix('.out')))\n",
    "im.writeFits(str(fname_sca_sim), dpc=dpc, coord='15h56m09.17658s -37d56m06.1193s')"
   ],
   "metadata": {
    "collapsed": false,
    "pycharm": {
     "name": "#%%\n"
    }
   }
  },
  {
   "cell_type": "code",
   "execution_count": 22,
   "outputs": [
    {
     "name": "stdout",
     "output_type": "stream",
     "text": [
      "WARNING: No beam values found. Assuming pixel as beam.\n",
      "WARNING: `clip` is depreciated, use `FOV` instead.\n",
      "WARNING: `FOV` larger than input field of view.\n",
      "WARNING: Provided cube is only 2D. Shifting not available.\n"
     ]
    }
   ],
   "source": [
    "iq_sca_sim = imagecube(str(fname_sca_sim), clip=clip)\n",
    "\n",
    "# set the \"beam\" for the two images such that the samplint happens identically\n",
    "\n",
    "for iq in [iq_sca_obs, iq_sca_sim]:\n",
    "    iq.bmaj, iq.bmin, iq.bpa = beam_sca\n",
    "    iq.beamarea_arcsec = iq._calculate_beam_area_arcsec()\n",
    "    iq.beamarea_str = iq._calculate_beam_area_str()"
   ],
   "metadata": {
    "collapsed": false,
    "pycharm": {
     "name": "#%%\n"
    }
   }
  },
  {
   "cell_type": "code",
   "execution_count": 23,
   "outputs": [
    {
     "name": "stdout",
     "output_type": "stream",
     "text": [
      "WARNING: No beam values found. Assuming pixel as beam.\n",
      "WARNING: `FOV` larger than input field of view.\n",
      "WARNING: Provided cube is only 2D. Shifting not available.\n",
      "WARNING: Attached data is not 3D, so shifting cannot be applied.\n",
      "\t Reverting to standard azimuthal averaging; will ignore `unit` argument.\n",
      "WARNING: No beam values found. Assuming pixel as beam.\n",
      "WARNING: `FOV` larger than input field of view.\n",
      "WARNING: Provided cube is only 2D. Shifting not available.\n",
      "WARNING: Attached data is not 3D, so shifting cannot be applied.\n",
      "\t Reverting to standard azimuthal averaging; will ignore `unit` argument.\n",
      "WARNING: No beam values found. Assuming pixel as beam.\n",
      "WARNING: `FOV` larger than input field of view.\n",
      "WARNING: Provided cube is only 2D. Shifting not available.\n",
      "WARNING: Attached data is not 3D, so shifting cannot be applied.\n",
      "\t Reverting to standard azimuthal averaging; will ignore `unit` argument.\n",
      "WARNING: No beam values found. Assuming pixel as beam.\n",
      "WARNING: `FOV` larger than input field of view.\n",
      "WARNING: Provided cube is only 2D. Shifting not available.\n",
      "WARNING: Attached data is not 3D, so shifting cannot be applied.\n",
      "\t Reverting to standard azimuthal averaging; will ignore `unit` argument.\n",
      "WARNING: No beam values found. Assuming pixel as beam.\n",
      "WARNING: `FOV` larger than input field of view.\n",
      "WARNING: Provided cube is only 2D. Shifting not available.\n",
      "WARNING: Attached data is not 3D, so shifting cannot be applied.\n",
      "\t Reverting to standard azimuthal averaging; will ignore `unit` argument.\n"
     ]
    },
    {
     "name": "stderr",
     "output_type": "stream",
     "text": [
      "/anaconda3/envs/dipsy/lib/python3.7/site-packages/numpy/core/fromnumeric.py:3335: RuntimeWarning: Mean of empty slice.\n",
      "  out=out, **kwargs)\n",
      "/anaconda3/envs/dipsy/lib/python3.7/site-packages/numpy/core/_methods.py:217: RuntimeWarning: Degrees of freedom <= 0 for slice\n",
      "  keepdims=keepdims)\n"
     ]
    }
   ],
   "source": [
    "profiles_sca_sim = get_normalized_profiles(\n",
    "        str(fname_sca_sim),\n",
    "        clip=clip,\n",
    "        inc=inc, PA=PA,\n",
    "        z0=z0,\n",
    "        psi=psi,\n",
    "        beam=beam_sca)"
   ],
   "metadata": {
    "collapsed": false,
    "pycharm": {
     "name": "#%%\n"
    }
   }
  },
  {
   "cell_type": "markdown",
   "source": [
    "Checking the profiles"
   ],
   "metadata": {
    "collapsed": false,
    "pycharm": {
     "name": "#%% md\n"
    }
   }
  },
  {
   "cell_type": "code",
   "execution_count": 24,
   "outputs": [
    {
     "data": {
      "text/plain": "(0.002, 0.04)"
     },
     "execution_count": 24,
     "metadata": {},
     "output_type": "execute_result"
    },
    {
     "data": {
      "text/plain": "<Figure size 432x288 with 3 Axes>",
      "image/png": "[encoded data removed]"
     },
     "metadata": {
      "needs_background": "light"
     },
     "output_type": "display_data"
    }
   ],
   "source": [
    "f, ax = plt.subplots(1, 3)\n",
    "\n",
    "for i, key in enumerate(profiles_sca_sim.keys()):\n",
    "    profile = profiles_sca_sim[key]\n",
    "    x = profile['x']\n",
    "    y = profile['y']\n",
    "    dy = profile['dy']\n",
    "    mask = profile['mask']\n",
    "\n",
    "    ax[0].semilogy(x, y, c=f'C{i}')\n",
    "    ax[0].fill_between(x, y - dy, y + dy, fc=f'C{i}', alpha=0.5)\n",
    "\n",
    "for i, key in enumerate(profiles_sca_obs.keys()):\n",
    "    profile = profiles_sca_obs[key]\n",
    "    x = profile['x']\n",
    "    y = profile['y']\n",
    "    dy = profile['dy']\n",
    "    mask = profile['mask']\n",
    "\n",
    "    ax[1].semilogy(x, y, c=f'C{i}')\n",
    "    ax[1].fill_between(x, y - dy, y + dy, fc=f'C{i}', alpha=0.5)\n",
    "    ax[2].semilogy(x, dy, c=f'C{i}')\n",
    "\n",
    "ax[0].set_xlim([1,2.5])\n",
    "ax[0].set_ylim([5e-2, 1e1])\n",
    "ax[0].set_title('Simulated')\n",
    "ax[1].set_xlim([1,2.5])\n",
    "ax[1].set_ylim([5e-2, 1e1])\n",
    "ax[1].set_title('Observed')\n",
    "ax[2].set_xlim([1,2.5])\n",
    "ax[2].set_ylim([2e-3, 4e-2]);"
   ],
   "metadata": {
    "collapsed": false,
    "pycharm": {
     "name": "#%%\n"
    }
   }
  },
  {
   "cell_type": "code",
   "execution_count": 25,
   "outputs": [
    {
     "name": "stderr",
     "output_type": "stream",
     "text": [
      "/anaconda3/envs/dipsy/lib/python3.7/site-packages/ipykernel_launcher.py:5: UserWarning: observed and simulated radial profile grids are not equal\n",
      "  \"\"\"\n"
     ]
    }
   ],
   "source": [
    "try:\n",
    "    assert np.allclose(profiles_sca_obs['B']['x'], profiles_sca_sim['B']['x'])\n",
    "except Exception:\n",
    "    # raise AssertionError('observed and simulated radial profile grids are not equal')\n",
    "    warnings.warn('observed and simulated radial profile grids are not equal')\n",
    "    # try:\n",
    "    #     from IPython import embed\n",
    "    #     embed()\n",
    "    # except Exception:\n",
    "    #     pass"
   ],
   "metadata": {
    "collapsed": false,
    "pycharm": {
     "name": "#%%\n"
    }
   }
  },
  {
   "cell_type": "code",
   "execution_count": 26,
   "outputs": [],
   "source": [
    "def calculate_chisq(obs, exp, error):\n",
    "    error = error + 1e-100\n",
    "    return np.sum((obs - exp) ** 2 / (error ** 2))"
   ],
   "metadata": {
    "collapsed": false,
    "pycharm": {
     "name": "#%%\n"
    }
   }
  },
  {
   "cell_type": "code",
   "execution_count": 27,
   "outputs": [],
   "source": [
    "y_sim_full = np.array([])\n",
    "y_obs_full = np.array([])\n",
    "dy_obs_full = np.array([])\n",
    "\n",
    "for i, key in enumerate(profiles_sca_obs.keys()):\n",
    "    profile = profiles_sca_obs[key]\n",
    "    x_obs = profile['x']\n",
    "    y_obs = profile['y']\n",
    "    dy_obs = profile['dy']\n",
    "    mask_obs = profile['mask']\n",
    "    index_outer_disk = np.asarray(x_obs >= 1).nonzero()[0][0]\n",
    "\n",
    "\n",
    "    profile = profiles_sca_sim[key]\n",
    "    x_sim = profile['x']\n",
    "    y_sim = profile['y']\n",
    "    dy_sim = profile['dy']\n",
    "    mask_sim = profile['mask']\n",
    "\n",
    "    index_disk_size = min(len(x_obs), len(x_sim))\n",
    "\n",
    "    y_sim_full = np.append(y_sim_full, y_sim[index_outer_disk:index_disk_size])\n",
    "    y_obs_full = np.append(y_obs_full, y_obs[index_outer_disk:index_disk_size])\n",
    "    dy_obs_full = np.append(dy_obs_full, dy_obs[index_outer_disk:index_disk_size])"
   ],
   "metadata": {
    "collapsed": false,
    "pycharm": {
     "name": "#%%\n"
    }
   }
  },
  {
   "cell_type": "code",
   "execution_count": 29,
   "outputs": [
    {
     "name": "stdout",
     "output_type": "stream",
     "text": [
      "5820857.850879334 -15.576958205904047\n",
      "[NbConvertApp] Converting notebook logP_testing.ipynb to python\r\n",
      "[NbConvertApp] Writing 9482 bytes to logP_testing.py\r\n"
     ]
    }
   ],
   "source": [
    "chisq = calculate_chisq(y_obs_full, y_sim_full, dy_obs_full)\n",
    "\n",
    "logP = -np.log(chisq)\n",
    "\n",
    "print(chisq, logP)\n",
    "\n",
    "!jupyter nbconvert --to python logP_testing.ipynb\n"
   ],
   "metadata": {
    "collapsed": false,
    "pycharm": {
     "name": "#%%\n"
    }
   }
  }
 ],
 "metadata": {
  "kernelspec": {
   "display_name": "Python 3",
   "language": "python",
   "name": "python3"
  },
  "language_info": {
   "codemirror_mode": {
    "name": "ipython",
    "version": 2
   },
   "file_extension": ".py",
   "mimetype": "text/x-python",
   "name": "python",
   "nbconvert_exporter": "python",
   "pygments_lexer": "ipython2",
   "version": "2.7.6"
  }
 },
 "nbformat": 4,
 "nbformat_minor": 0
}